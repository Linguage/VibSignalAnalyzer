{
 "cells": [
  {
   "cell_type": "markdown",
   "id": "036fad17",
   "metadata": {},
   "source": [
    "# 振动信号分析示例\n",
    "\n",
    "这个notebook展示了如何使用振动信号分析系统进行信号生成、分析和可视化。"
   ]
  },
  {
   "cell_type": "code",
   "execution_count": null,
   "id": "6f781517",
   "metadata": {},
   "outputs": [],
   "source": [
    "import sys\n",
    "from pathlib import Path\n",
    "import numpy as np\n",
    "import matplotlib.pyplot as plt\n",
    "%matplotlib inline\n",
    "\n",
    "# 添加项目根目录到Python路径\n",
    "project_root = Path().absolute().parent\n",
    "sys.path.append(str(project_root))\n",
    "\n",
    "from src.time_domain import generate_synthetic_signal, calculate_time_features\n",
    "from src.frequency_domain import compute_fft, compute_power_spectrum"
   ]
  },
  {
   "cell_type": "markdown",
   "id": "5e53f4f0",
   "metadata": {},
   "source": [
    "## 1. 生成示例信号\n",
    "\n",
    "首先我们生成一个包含多个频率分量的复合信号"
   ]
  },
  {
   "cell_type": "code",
   "execution_count": null,
   "id": "aff3dfb3",
   "metadata": {},
   "outputs": [],
   "source": [
    "# 生成一个包含两个频率的信号\n",
    "duration = 1.0  # 信号持续时间（秒）\n",
    "fs = 1000      # 采样率（Hz）\n",
    "t = np.linspace(0, duration, int(duration * fs))\n",
    "\n",
    "# 生成两个不同频率的正弦信号\n",
    "f1, f2 = 10, 25  # 频率分量\n",
    "y1 = np.sin(2 * np.pi * f1 * t)\n",
    "y2 = 0.5 * np.sin(2 * np.pi * f2 * t)\n",
    "y = y1 + y2\n",
    "\n",
    "# 绘制时域波形\n",
    "plt.figure(figsize=(12, 4))\n",
    "plt.plot(t, y)\n",
    "plt.title('双频率复合信号')\n",
    "plt.xlabel('时间 (s)')\n",
    "plt.ylabel('幅值')\n",
    "plt.grid(True)\n",
    "plt.show()"
   ]
  },
  {
   "cell_type": "markdown",
   "id": "d265d27b",
   "metadata": {},
   "source": [
    "## 2. 频谱分析\n",
    "\n",
    "使用FFT分析信号的频率成分"
   ]
  },
  {
   "cell_type": "code",
   "execution_count": null,
   "id": "5de4ec26",
   "metadata": {},
   "outputs": [],
   "source": [
    "# 计算频谱\n",
    "freq, amp = compute_fft(y, fs=fs)\n",
    "\n",
    "# 绘制频谱图\n",
    "plt.figure(figsize=(12, 4))\n",
    "plt.plot(freq, amp)\n",
    "plt.title('信号频谱')\n",
    "plt.xlabel('频率 (Hz)')\n",
    "plt.ylabel('幅值')\n",
    "plt.grid(True)\n",
    "plt.show()"
   ]
  },
  {
   "cell_type": "markdown",
   "id": "9203749d",
   "metadata": {},
   "source": [
    "## 3. 时域特征分析"
   ]
  },
  {
   "cell_type": "code",
   "execution_count": null,
   "id": "9b667f4c",
   "metadata": {},
   "outputs": [],
   "source": [
    "# 计算时域特征\n",
    "features = calculate_time_features(y)\n",
    "\n",
    "# 显示特征值\n",
    "for name, value in features.items():\n",
    "    print(f\"{name}: {value:.4f}\")"
   ]
  }
 ],
 "metadata": {
  "language_info": {
   "name": "python"
  }
 },
 "nbformat": 4,
 "nbformat_minor": 5
}
